{
 "cells": [
  {
   "cell_type": "code",
   "execution_count": 2,
   "id": "f4c13875-d832-43bc-9525-7e152d7bed36",
   "metadata": {},
   "outputs": [
    {
     "name": "stdout",
     "output_type": "stream",
     "text": [
      "None\n"
     ]
    }
   ],
   "source": [
    "from bs4 import BeautifulSoup\n",
    "import requests\n",
    "\n",
    "URL = \"https://www.youtube.com/@PW-Foundation/videos\"\n",
    "\n",
    "response = requests.get(URL)\n",
    "response.raise_for_status()\n",
    "content = response.text\n",
    "\n",
    "soup = BeautifulSoup(content, \"html.parser\")\n",
    "\n",
    "# //div/div/h3/a\n",
    "\n",
    "web_html = soup.find(name=\"//div/div/h3/a\")\n",
    "print(web_html)\n",
    "\n",
    "# web_html = soup.select_one('div div h3 a')\n",
    "# print(web_html)\n"
   ]
  }
 ],
 "metadata": {
  "kernelspec": {
   "display_name": "Python 3 (ipykernel)",
   "language": "python",
   "name": "python3"
  },
  "language_info": {
   "codemirror_mode": {
    "name": "ipython",
    "version": 3
   },
   "file_extension": ".py",
   "mimetype": "text/x-python",
   "name": "python",
   "nbconvert_exporter": "python",
   "pygments_lexer": "ipython3",
   "version": "3.10.8"
  }
 },
 "nbformat": 4,
 "nbformat_minor": 5
}
