{
 "cells": [
  {
   "cell_type": "code",
   "execution_count": null,
   "id": "c99d85d3-4ca8-48e0-87a9-d07c8b755706",
   "metadata": {},
   "outputs": [],
   "source": [
    "'''Go to this given URL and solve the following questions\n",
    "URL: https://www.youtube.com/@PW-Foundation/videos\n",
    "Q1. Write a python program to extract the video URL of the first five videos.\n",
    "Q2. Write a python program to extract the URL of the video thumbnails of the first five videos.\n",
    "Q3. Write a python program to extract the title of the first five videos.\n",
    "Q4. Write a python program to extract the number of views of the first five videos.\n",
    "Q5. Write a python program to extract the time of posting of video for the first five videos.\n",
    "Note: Save all the data scraped in the above questions in a CSV file.'''"
   ]
  },
  {
   "cell_type": "code",
   "execution_count": null,
   "id": "03b7dc55-99b8-49cb-aff2-7583b11d2020",
   "metadata": {},
   "outputs": [],
   "source": [
    "from bs4 import BeautifulSoup\n",
    "import requests\n",
    "\n",
    "URL = \"https://www.youtube.com/@PW-Foundation/videos\"\n",
    "\n",
    "response = requests.get(URL)\n",
    "response.raise_for_status()\n",
    "content = response.text\n",
    "\n",
    "soup = BeautifulSoup(content, \"html.parser\")\n",
    "\n",
    "# //div/div/h3/a\n",
    "\n",
    "web_html = soup.find(name=\"//div/div/h3/a\")\n",
    "print(web_html)\n",
    "\n",
    "# web_html = soup.select_one('div div h3 a')\n",
    "# print(web_html)\n"
   ]
  }
 ],
 "metadata": {
  "kernelspec": {
   "display_name": "Python 3 (ipykernel)",
   "language": "python",
   "name": "python3"
  },
  "language_info": {
   "codemirror_mode": {
    "name": "ipython",
    "version": 3
   },
   "file_extension": ".py",
   "mimetype": "text/x-python",
   "name": "python",
   "nbconvert_exporter": "python",
   "pygments_lexer": "ipython3",
   "version": "3.10.8"
  }
 },
 "nbformat": 4,
 "nbformat_minor": 5
}
